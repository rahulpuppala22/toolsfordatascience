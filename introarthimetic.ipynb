{
 "cells": [
  {
   "cell_type": "code",
   "execution_count": 1,
   "id": "9b6b449f",
   "metadata": {},
   "outputs": [
    {
     "name": "stdout",
     "output_type": "stream",
     "text": [
      "introarithmetic\n"
     ]
    }
   ],
   "source": [
    "print(\"introarithmetic\")"
   ]
  },
  {
   "cell_type": "code",
   "execution_count": 2,
   "id": "5a4882f1",
   "metadata": {},
   "outputs": [
    {
     "data": {
      "text/plain": [
       "9"
      ]
     },
     "execution_count": 2,
     "metadata": {},
     "output_type": "execute_result"
    }
   ],
   "source": [
    "#Arithmetic operations\n",
    "code = compile(\"5 + 4\",\"<string>\",\"eval\")\n",
    "eval(code)\n",
    "#Result:9\n"
   ]
  },
  {
   "cell_type": "code",
   "execution_count": 4,
   "id": "20731900",
   "metadata": {},
   "outputs": [
    {
     "data": {
      "text/plain": [
       "24"
      ]
     },
     "execution_count": 4,
     "metadata": {},
     "output_type": "execute_result"
    }
   ],
   "source": [
    "code1 = compile(\"(5 + 7) * 2\",\"<string>\",\"eval\")\n",
    "eval(code1)\n",
    "#Result:24\n"
   ]
  },
  {
   "cell_type": "code",
   "execution_count": 5,
   "id": "f3bcffc8",
   "metadata": {},
   "outputs": [
    {
     "data": {
      "text/plain": [
       "65449.84694978735"
      ]
     },
     "execution_count": 5,
     "metadata": {},
     "output_type": "execute_result"
    }
   ],
   "source": [
    "import math\n",
    "#volume of a sphere\n",
    "code2 = compile(\"4/3*math.pi * math.pow(25,3)\",\"<string>\",\"eval\")\n",
    "eval(code2)"
   ]
  },
  {
   "cell_type": "code",
   "execution_count": null,
   "id": "5b0a0f76",
   "metadata": {},
   "outputs": [],
   "source": []
  }
 ],
 "metadata": {
  "kernelspec": {
   "display_name": "Python 3 (ipykernel)",
   "language": "python",
   "name": "python3"
  },
  "language_info": {
   "codemirror_mode": {
    "name": "ipython",
    "version": 3
   },
   "file_extension": ".py",
   "mimetype": "text/x-python",
   "name": "python",
   "nbconvert_exporter": "python",
   "pygments_lexer": "ipython3",
   "version": "3.11.5"
  }
 },
 "nbformat": 4,
 "nbformat_minor": 5
}
