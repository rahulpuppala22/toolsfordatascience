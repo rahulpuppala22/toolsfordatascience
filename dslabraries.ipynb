{
 "cells": [
  {
   "cell_type": "code",
   "execution_count": 1,
   "id": "0826af78",
   "metadata": {},
   "outputs": [
    {
     "name": "stdout",
     "output_type": "stream",
     "text": [
      "dslabraries\n"
     ]
    }
   ],
   "source": [
    "print(\"dslabraries\")\n"
   ]
  },
  {
   "cell_type": "markdown",
   "id": "f5b033be",
   "metadata": {},
   "source": [
    "some of the common used labraries used by data scientists include:\n",
    "TensorFlow.\n",
    "Numpy.\n",
    "Scipy.\n",
    "Pandas.\n",
    "Matplotlib.\n",
    "Keras.\n",
    "Scikit-Learn.\n",
    "PyTorch.\n",
    "Scrapy.\n",
    "Beautifulsoup.\n",
    "LightGBM.\n",
    "ELI5.\n",
    "Theano.\n",
    "NuPIC.\n",
    "Ramp.\n",
    "Pipenv.\n",
    "Bob.\n",
    "PyBrain.\n",
    "Caffe2.\n",
    "Chainer.\n"
   ]
  }
 ],
 "metadata": {
  "kernelspec": {
   "display_name": "Python 3 (ipykernel)",
   "language": "python",
   "name": "python3"
  },
  "language_info": {
   "codemirror_mode": {
    "name": "ipython",
    "version": 3
   },
   "file_extension": ".py",
   "mimetype": "text/x-python",
   "name": "python",
   "nbconvert_exporter": "python",
   "pygments_lexer": "ipython3",
   "version": "3.11.5"
  }
 },
 "nbformat": 4,
 "nbformat_minor": 5
}
