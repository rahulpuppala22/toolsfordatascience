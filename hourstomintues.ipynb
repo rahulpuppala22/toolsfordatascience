{
 "cells": [
  {
   "cell_type": "code",
   "execution_count": 1,
   "id": "51a521c6",
   "metadata": {},
   "outputs": [
    {
     "name": "stdout",
     "output_type": "stream",
     "text": [
      "2 hours is equal to 120 minutes.\n"
     ]
    }
   ],
   "source": [
    "#Input hours\n",
    "hours = 2\n",
    "\n",
    "#convert hours to minutes\n",
    "minutes = hours *60\n",
    "\n",
    "#Display the result\n",
    "print(f\"{hours} hours is equal to {minutes} minutes.\")"
   ]
  },
  {
   "cell_type": "code",
   "execution_count": null,
   "id": "862af10c",
   "metadata": {},
   "outputs": [],
   "source": []
  }
 ],
 "metadata": {
  "kernelspec": {
   "display_name": "Python 3 (ipykernel)",
   "language": "python",
   "name": "python3"
  },
  "language_info": {
   "codemirror_mode": {
    "name": "ipython",
    "version": 3
   },
   "file_extension": ".py",
   "mimetype": "text/x-python",
   "name": "python",
   "nbconvert_exporter": "python",
   "pygments_lexer": "ipython3",
   "version": "3.11.5"
  }
 },
 "nbformat": 4,
 "nbformat_minor": 5
}
